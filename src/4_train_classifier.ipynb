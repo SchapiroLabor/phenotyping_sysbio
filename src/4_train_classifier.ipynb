{
 "cells": [
  {
   "cell_type": "code",
   "execution_count": null,
   "id": "3df84243",
   "metadata": {},
   "outputs": [],
   "source": [
    "# import libraries\n",
    "from xgboost import XGBClassifier\n",
    "import xgboost as xgb\n",
    "import anndata as ad\n",
    "import pandas as pd\n",
    "from sklearn.model_selection import train_test_split\n",
    "from sklearn.preprocessing import LabelEncoder\n",
    "from sklearn.metrics import accuracy_score, classification_report"
   ]
  },
  {
   "cell_type": "markdown",
   "id": "b8c0829a",
   "metadata": {},
   "source": [
    "## Get the data and annotations"
   ]
  },
  {
   "cell_type": "code",
   "execution_count": null,
   "id": "e9726101",
   "metadata": {},
   "outputs": [],
   "source": [
    "# Read the annotated labels\n",
    "adata = ad.read_h5ad('../cells_annotated.h5ad')\n",
    "df = adata.obs.copy()\n",
    "df"
   ]
  },
  {
   "cell_type": "code",
   "execution_count": null,
   "id": "9985a7ad",
   "metadata": {},
   "outputs": [],
   "source": [
    "# Read the feature table and add the cell type column\n",
    "feature_table_path = [\"../scimapExampleData/quantification/exemplar-001--unmicst_cell.csv\"]\n",
    "feature_table = pd.read_csv(feature_table_path[0], index_col=0)\n",
    "# Create a new column in the feature table for the cell type\n",
    "feature_table['cell_type'] = df['leiden_phenotype'].values\n",
    "\n",
    "# sanity check\n",
    "feature_table"
   ]
  },
  {
   "cell_type": "markdown",
   "id": "0319fbaa",
   "metadata": {},
   "source": [
    "## Train a XGB classifier on the data"
   ]
  },
  {
   "cell_type": "code",
   "execution_count": null,
   "id": "768bc4f5",
   "metadata": {},
   "outputs": [],
   "source": [
    "# split the data into training and test sets\n",
    "cols_to_drop = [col for col in ['cell_type', 'cell_id', 'image_id'] if col in feature_table.columns]\n",
    "X = feature_table.drop(columns=cols_to_drop)\n",
    "y = feature_table['cell_type']\n",
    "\n",
    "# Manually encode string labels to integers\n",
    "label_encoder = LabelEncoder()\n",
    "y = label_encoder.fit_transform(y)\n",
    "\n",
    "X_train, X_test, y_train, y_test = train_test_split(X, y,\n",
    "                                                    test_size=0.2, random_state=42)\n",
    "\n",
    "# train the XGBoost classifier\n",
    "xgb_model = xgb.XGBClassifier(use_label_encoder=True, eval_metric='mlogloss')\n",
    "xgb_model.fit(X_train, y_train)\n",
    "\n",
    "# evaluate the model\n",
    "y_pred = xgb_model.predict(X_test)\n",
    "print(classification_report(y_test, y_pred))\n"
   ]
  },
  {
   "cell_type": "markdown",
   "id": "d64116e9",
   "metadata": {},
   "source": [
    "- Why do you think is the performance so high for this model? Is the current way we split into train and test similar in real-scenario? "
   ]
  },
  {
   "cell_type": "markdown",
   "id": "d354f42a",
   "metadata": {},
   "source": [
    "### Estimate the least amount of data you would need to train a classifier that still has decent performance (F1 > 0.8)"
   ]
  },
  {
   "cell_type": "code",
   "execution_count": null,
   "id": "05dd6526",
   "metadata": {},
   "outputs": [],
   "source": []
  }
 ],
 "metadata": {
  "kernelspec": {
   "display_name": "scimap2",
   "language": "python",
   "name": "python3"
  },
  "language_info": {
   "codemirror_mode": {
    "name": "ipython",
    "version": 3
   },
   "file_extension": ".py",
   "mimetype": "text/x-python",
   "name": "python",
   "nbconvert_exporter": "python",
   "pygments_lexer": "ipython3",
   "version": "3.10.18"
  }
 },
 "nbformat": 4,
 "nbformat_minor": 5
}
