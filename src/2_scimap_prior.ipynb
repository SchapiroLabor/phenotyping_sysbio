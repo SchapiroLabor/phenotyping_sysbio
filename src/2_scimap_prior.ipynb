{
 "cells": [
  {
   "cell_type": "code",
   "execution_count": null,
   "id": "8e8b9185",
   "metadata": {},
   "outputs": [],
   "source": [
    "import pandas as pd\n",
    "import numpy as np\n",
    "import scimap as sm\n",
    "import anndata as ad\n",
    "import warnings\n",
    "warnings.filterwarnings(\"ignore\")"
   ]
  },
  {
   "cell_type": "markdown",
   "id": "9517485d",
   "metadata": {},
   "source": [
    "# Prior knowledge driven annotation"
   ]
  },
  {
   "cell_type": "markdown",
   "id": "5768d4cf",
   "metadata": {},
   "source": [
    "If you did Clustering before, use your anndata object from clustering!"
   ]
  },
  {
   "cell_type": "code",
   "execution_count": null,
   "id": "aa47563b",
   "metadata": {},
   "outputs": [],
   "source": [
    "adata = ad.read_h5ad('/Users/lukashat/Documents/PhD_Schapiro/Teaching/SysBio/2025/src/cells_annotated.h5ad')"
   ]
  },
  {
   "cell_type": "markdown",
   "id": "258545bd",
   "metadata": {},
   "source": [
    "## read in decision matrix and inspect"
   ]
  },
  {
   "cell_type": "code",
   "execution_count": null,
   "id": "00dbe2ba",
   "metadata": {},
   "outputs": [],
   "source": [
    "# load the phenotyping workflow\n",
    "phenotype = pd.read_csv('/Users/lukashat/Documents/PhD_Schapiro/Teaching/SysBio/2025/src/scimapExampleData/phenotype_workflow.csv')\n",
    "# view the table:\n",
    "phenotype.style.format(na_rep='')"
   ]
  },
  {
   "cell_type": "markdown",
   "id": "d0cd59c8",
   "metadata": {},
   "source": [
    "Very 'broad' phenotypes only here. Try to undertand how this matrix works and how it tries to recapitulate the hierarchical system we talked about"
   ]
  },
  {
   "cell_type": "code",
   "execution_count": null,
   "id": "fd17e300",
   "metadata": {},
   "outputs": [],
   "source": [
    "#%gui qt"
   ]
  },
  {
   "cell_type": "code",
   "execution_count": null,
   "id": "74d70c51",
   "metadata": {},
   "outputs": [],
   "source": [
    "image_path = '/Users/lukashat/Documents/PhD_Schapiro/Teaching/SysBio/2025/src/scimapExampleData/registration/exemplar-001.ome.tif'"
   ]
  },
  {
   "cell_type": "markdown",
   "id": "454fe2d6",
   "metadata": {},
   "source": [
    "## Threshold the image\n",
    "This is very subjective and the data is not really 'clean' and suffers a lot from Autofluorescence. Try to find good gates by looking at the marker on the image and the histograms, add biological knowledge (long bright lines are rather autofluorescent elastic fibrers than real staining for example)"
   ]
  },
  {
   "cell_type": "code",
   "execution_count": null,
   "id": "ba3764f8",
   "metadata": {},
   "outputs": [],
   "source": [
    "sm.pl.napariGater (image_path, adata)"
   ]
  },
  {
   "cell_type": "code",
   "execution_count": null,
   "id": "6e3a8ef3",
   "metadata": {},
   "outputs": [],
   "source": [
    "adata"
   ]
  },
  {
   "cell_type": "code",
   "execution_count": null,
   "id": "1e9010e0",
   "metadata": {},
   "outputs": [],
   "source": [
    "adata = sm.pp.rescale (adata, gate=adata.uns['gates'])"
   ]
  },
  {
   "cell_type": "code",
   "execution_count": null,
   "id": "0c32faa8",
   "metadata": {},
   "outputs": [],
   "source": [
    "adata = sm.tl.phenotype_cells (adata, phenotype=phenotype, label=\"phenotype\") "
   ]
  },
  {
   "cell_type": "code",
   "execution_count": null,
   "id": "d149154f",
   "metadata": {},
   "outputs": [],
   "source": [
    "adata.obs['phenotype'].value_counts()"
   ]
  },
  {
   "cell_type": "markdown",
   "id": "7d2b583a",
   "metadata": {},
   "source": [
    "## Now rename the cells so they fit to the cluster annotations (hint: Dendritic cells need to 'vanish' into another category, otherwise check markers from clustering). This is needed for step 3"
   ]
  },
  {
   "cell_type": "code",
   "execution_count": null,
   "id": "96e048e4",
   "metadata": {},
   "outputs": [],
   "source": [
    "adata.obs.dtypes"
   ]
  },
  {
   "cell_type": "code",
   "execution_count": null,
   "id": "33b77981",
   "metadata": {},
   "outputs": [],
   "source": [
    "adata.obs['phenotype'].value_counts()"
   ]
  },
  {
   "cell_type": "code",
   "execution_count": null,
   "id": "1412e483",
   "metadata": {},
   "outputs": [],
   "source": [
    "adata.obs['leiden_phenotype'].value_counts()"
   ]
  },
  {
   "cell_type": "code",
   "execution_count": null,
   "id": "552ab9eb",
   "metadata": {},
   "outputs": [],
   "source": [
    "adata.obs['phenotype'] = adata.obs['phenotype'].astype(str)\n",
    "adata.obs['phenotype_to_compare'] = adata.obs['phenotype']\n",
    "adata.obs['phenotype_to_compare'] = adata.obs['phenotype_to_compare'].replace({'ECAD+': 'Tumor', 'SMA+': 'Vessels', 'Other myeloid cells': 'Myeloid',\n",
    "                                                                               'Dendritic cells': 'Myeloid', 'NK cells': 'Immune'})"
   ]
  },
  {
   "cell_type": "code",
   "execution_count": null,
   "id": "473f27e6",
   "metadata": {},
   "outputs": [],
   "source": [
    "adata.write_h5ad('/Users/lukashat/Documents/PhD_Schapiro/Teaching/SysBio/2025/src/cells_annotated_both.h5ad')"
   ]
  }
 ],
 "metadata": {
  "kernelspec": {
   "display_name": "scimap_teaching",
   "language": "python",
   "name": "python3"
  },
  "language_info": {
   "codemirror_mode": {
    "name": "ipython",
    "version": 3
   },
   "file_extension": ".py",
   "mimetype": "text/x-python",
   "name": "python",
   "nbconvert_exporter": "python",
   "pygments_lexer": "ipython3",
   "version": "3.10.18"
  }
 },
 "nbformat": 4,
 "nbformat_minor": 5
}
