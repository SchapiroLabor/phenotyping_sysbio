{
 "cells": [
  {
   "cell_type": "code",
   "execution_count": 1,
   "id": "8e8b9185",
   "metadata": {},
   "outputs": [
    {
     "name": "stdout",
     "output_type": "stream",
     "text": [
      "Running SCIMAP  2.3.5\n"
     ]
    },
    {
     "name": "stderr",
     "output_type": "stream",
     "text": [
      "/Users/arojhada/anaconda3/envs/scimap_1/lib/python3.10/site-packages/tqdm/auto.py:21: TqdmWarning:\n",
      "\n",
      "IProgress not found. Please update jupyter and ipywidgets. See https://ipywidgets.readthedocs.io/en/stable/user_install.html\n",
      "\n"
     ]
    }
   ],
   "source": [
    "import pandas as pd\n",
    "import numpy as np\n",
    "import scimap as sm\n",
    "import anndata as ad\n",
    "import warnings\n",
    "warnings.filterwarnings(\"ignore\")"
   ]
  },
  {
   "cell_type": "markdown",
   "id": "9517485d",
   "metadata": {},
   "source": [
    "# Prior knowledge driven annotation"
   ]
  },
  {
   "cell_type": "markdown",
   "id": "5768d4cf",
   "metadata": {},
   "source": [
    "If you did Clustering before, use your anndata object from clustering!"
   ]
  },
  {
   "cell_type": "code",
   "execution_count": 2,
   "id": "aa47563b",
   "metadata": {},
   "outputs": [],
   "source": [
    "adata = ad.read_h5ad('../cells_annotated.h5ad')"
   ]
  },
  {
   "cell_type": "markdown",
   "id": "258545bd",
   "metadata": {},
   "source": [
    "## read in decision matrix and inspect"
   ]
  },
  {
   "cell_type": "code",
   "execution_count": 3,
   "id": "00dbe2ba",
   "metadata": {},
   "outputs": [
    {
     "data": {
      "text/html": [
       "<style type=\"text/css\">\n",
       "</style>\n",
       "<table id=\"T_0097c\">\n",
       "  <thead>\n",
       "    <tr>\n",
       "      <th class=\"blank level0\" >&nbsp;</th>\n",
       "      <th id=\"T_0097c_level0_col0\" class=\"col_heading level0 col0\" >Unnamed: 0</th>\n",
       "      <th id=\"T_0097c_level0_col1\" class=\"col_heading level0 col1\" >Unnamed: 1</th>\n",
       "      <th id=\"T_0097c_level0_col2\" class=\"col_heading level0 col2\" >ELANE</th>\n",
       "      <th id=\"T_0097c_level0_col3\" class=\"col_heading level0 col3\" >CD57</th>\n",
       "      <th id=\"T_0097c_level0_col4\" class=\"col_heading level0 col4\" >CD45</th>\n",
       "      <th id=\"T_0097c_level0_col5\" class=\"col_heading level0 col5\" >CD11B</th>\n",
       "      <th id=\"T_0097c_level0_col6\" class=\"col_heading level0 col6\" >SMA</th>\n",
       "      <th id=\"T_0097c_level0_col7\" class=\"col_heading level0 col7\" >CD16</th>\n",
       "      <th id=\"T_0097c_level0_col8\" class=\"col_heading level0 col8\" >ECAD</th>\n",
       "      <th id=\"T_0097c_level0_col9\" class=\"col_heading level0 col9\" >FOXP3</th>\n",
       "      <th id=\"T_0097c_level0_col10\" class=\"col_heading level0 col10\" >NCAM</th>\n",
       "    </tr>\n",
       "  </thead>\n",
       "  <tbody>\n",
       "    <tr>\n",
       "      <th id=\"T_0097c_level0_row0\" class=\"row_heading level0 row0\" >0</th>\n",
       "      <td id=\"T_0097c_row0_col0\" class=\"data row0 col0\" >all</td>\n",
       "      <td id=\"T_0097c_row0_col1\" class=\"data row0 col1\" >ECAD+</td>\n",
       "      <td id=\"T_0097c_row0_col2\" class=\"data row0 col2\" ></td>\n",
       "      <td id=\"T_0097c_row0_col3\" class=\"data row0 col3\" ></td>\n",
       "      <td id=\"T_0097c_row0_col4\" class=\"data row0 col4\" ></td>\n",
       "      <td id=\"T_0097c_row0_col5\" class=\"data row0 col5\" ></td>\n",
       "      <td id=\"T_0097c_row0_col6\" class=\"data row0 col6\" ></td>\n",
       "      <td id=\"T_0097c_row0_col7\" class=\"data row0 col7\" ></td>\n",
       "      <td id=\"T_0097c_row0_col8\" class=\"data row0 col8\" >pos</td>\n",
       "      <td id=\"T_0097c_row0_col9\" class=\"data row0 col9\" ></td>\n",
       "      <td id=\"T_0097c_row0_col10\" class=\"data row0 col10\" ></td>\n",
       "    </tr>\n",
       "    <tr>\n",
       "      <th id=\"T_0097c_level0_row1\" class=\"row_heading level0 row1\" >1</th>\n",
       "      <td id=\"T_0097c_row1_col0\" class=\"data row1 col0\" >all</td>\n",
       "      <td id=\"T_0097c_row1_col1\" class=\"data row1 col1\" >Immune</td>\n",
       "      <td id=\"T_0097c_row1_col2\" class=\"data row1 col2\" ></td>\n",
       "      <td id=\"T_0097c_row1_col3\" class=\"data row1 col3\" ></td>\n",
       "      <td id=\"T_0097c_row1_col4\" class=\"data row1 col4\" >pos</td>\n",
       "      <td id=\"T_0097c_row1_col5\" class=\"data row1 col5\" ></td>\n",
       "      <td id=\"T_0097c_row1_col6\" class=\"data row1 col6\" ></td>\n",
       "      <td id=\"T_0097c_row1_col7\" class=\"data row1 col7\" ></td>\n",
       "      <td id=\"T_0097c_row1_col8\" class=\"data row1 col8\" ></td>\n",
       "      <td id=\"T_0097c_row1_col9\" class=\"data row1 col9\" ></td>\n",
       "      <td id=\"T_0097c_row1_col10\" class=\"data row1 col10\" ></td>\n",
       "    </tr>\n",
       "    <tr>\n",
       "      <th id=\"T_0097c_level0_row2\" class=\"row_heading level0 row2\" >2</th>\n",
       "      <td id=\"T_0097c_row2_col0\" class=\"data row2 col0\" >all</td>\n",
       "      <td id=\"T_0097c_row2_col1\" class=\"data row2 col1\" >SMA+</td>\n",
       "      <td id=\"T_0097c_row2_col2\" class=\"data row2 col2\" ></td>\n",
       "      <td id=\"T_0097c_row2_col3\" class=\"data row2 col3\" ></td>\n",
       "      <td id=\"T_0097c_row2_col4\" class=\"data row2 col4\" ></td>\n",
       "      <td id=\"T_0097c_row2_col5\" class=\"data row2 col5\" ></td>\n",
       "      <td id=\"T_0097c_row2_col6\" class=\"data row2 col6\" >pos</td>\n",
       "      <td id=\"T_0097c_row2_col7\" class=\"data row2 col7\" ></td>\n",
       "      <td id=\"T_0097c_row2_col8\" class=\"data row2 col8\" ></td>\n",
       "      <td id=\"T_0097c_row2_col9\" class=\"data row2 col9\" ></td>\n",
       "      <td id=\"T_0097c_row2_col10\" class=\"data row2 col10\" ></td>\n",
       "    </tr>\n",
       "    <tr>\n",
       "      <th id=\"T_0097c_level0_row3\" class=\"row_heading level0 row3\" >3</th>\n",
       "      <td id=\"T_0097c_row3_col0\" class=\"data row3 col0\" >Immune</td>\n",
       "      <td id=\"T_0097c_row3_col1\" class=\"data row3 col1\" >NK cells</td>\n",
       "      <td id=\"T_0097c_row3_col2\" class=\"data row3 col2\" ></td>\n",
       "      <td id=\"T_0097c_row3_col3\" class=\"data row3 col3\" >allpos</td>\n",
       "      <td id=\"T_0097c_row3_col4\" class=\"data row3 col4\" ></td>\n",
       "      <td id=\"T_0097c_row3_col5\" class=\"data row3 col5\" >neg</td>\n",
       "      <td id=\"T_0097c_row3_col6\" class=\"data row3 col6\" ></td>\n",
       "      <td id=\"T_0097c_row3_col7\" class=\"data row3 col7\" >allpos</td>\n",
       "      <td id=\"T_0097c_row3_col8\" class=\"data row3 col8\" ></td>\n",
       "      <td id=\"T_0097c_row3_col9\" class=\"data row3 col9\" ></td>\n",
       "      <td id=\"T_0097c_row3_col10\" class=\"data row3 col10\" ></td>\n",
       "    </tr>\n",
       "    <tr>\n",
       "      <th id=\"T_0097c_level0_row4\" class=\"row_heading level0 row4\" >4</th>\n",
       "      <td id=\"T_0097c_row4_col0\" class=\"data row4 col0\" >Immune</td>\n",
       "      <td id=\"T_0097c_row4_col1\" class=\"data row4 col1\" >Other myeloid cells</td>\n",
       "      <td id=\"T_0097c_row4_col2\" class=\"data row4 col2\" ></td>\n",
       "      <td id=\"T_0097c_row4_col3\" class=\"data row4 col3\" ></td>\n",
       "      <td id=\"T_0097c_row4_col4\" class=\"data row4 col4\" ></td>\n",
       "      <td id=\"T_0097c_row4_col5\" class=\"data row4 col5\" >pos</td>\n",
       "      <td id=\"T_0097c_row4_col6\" class=\"data row4 col6\" ></td>\n",
       "      <td id=\"T_0097c_row4_col7\" class=\"data row4 col7\" ></td>\n",
       "      <td id=\"T_0097c_row4_col8\" class=\"data row4 col8\" ></td>\n",
       "      <td id=\"T_0097c_row4_col9\" class=\"data row4 col9\" ></td>\n",
       "      <td id=\"T_0097c_row4_col10\" class=\"data row4 col10\" ></td>\n",
       "    </tr>\n",
       "    <tr>\n",
       "      <th id=\"T_0097c_level0_row5\" class=\"row_heading level0 row5\" >5</th>\n",
       "      <td id=\"T_0097c_row5_col0\" class=\"data row5 col0\" >Immune</td>\n",
       "      <td id=\"T_0097c_row5_col1\" class=\"data row5 col1\" >Treg</td>\n",
       "      <td id=\"T_0097c_row5_col2\" class=\"data row5 col2\" ></td>\n",
       "      <td id=\"T_0097c_row5_col3\" class=\"data row5 col3\" ></td>\n",
       "      <td id=\"T_0097c_row5_col4\" class=\"data row5 col4\" ></td>\n",
       "      <td id=\"T_0097c_row5_col5\" class=\"data row5 col5\" ></td>\n",
       "      <td id=\"T_0097c_row5_col6\" class=\"data row5 col6\" ></td>\n",
       "      <td id=\"T_0097c_row5_col7\" class=\"data row5 col7\" ></td>\n",
       "      <td id=\"T_0097c_row5_col8\" class=\"data row5 col8\" ></td>\n",
       "      <td id=\"T_0097c_row5_col9\" class=\"data row5 col9\" >pos</td>\n",
       "      <td id=\"T_0097c_row5_col10\" class=\"data row5 col10\" ></td>\n",
       "    </tr>\n",
       "    <tr>\n",
       "      <th id=\"T_0097c_level0_row6\" class=\"row_heading level0 row6\" >6</th>\n",
       "      <td id=\"T_0097c_row6_col0\" class=\"data row6 col0\" >Other myeloid cells</td>\n",
       "      <td id=\"T_0097c_row6_col1\" class=\"data row6 col1\" >Dendritic cells</td>\n",
       "      <td id=\"T_0097c_row6_col2\" class=\"data row6 col2\" ></td>\n",
       "      <td id=\"T_0097c_row6_col3\" class=\"data row6 col3\" >allneg</td>\n",
       "      <td id=\"T_0097c_row6_col4\" class=\"data row6 col4\" ></td>\n",
       "      <td id=\"T_0097c_row6_col5\" class=\"data row6 col5\" ></td>\n",
       "      <td id=\"T_0097c_row6_col6\" class=\"data row6 col6\" ></td>\n",
       "      <td id=\"T_0097c_row6_col7\" class=\"data row6 col7\" >allneg</td>\n",
       "      <td id=\"T_0097c_row6_col8\" class=\"data row6 col8\" ></td>\n",
       "      <td id=\"T_0097c_row6_col9\" class=\"data row6 col9\" ></td>\n",
       "      <td id=\"T_0097c_row6_col10\" class=\"data row6 col10\" ></td>\n",
       "    </tr>\n",
       "  </tbody>\n",
       "</table>\n"
      ],
      "text/plain": [
       "<pandas.io.formats.style.Styler at 0x10784bee0>"
      ]
     },
     "execution_count": 3,
     "metadata": {},
     "output_type": "execute_result"
    }
   ],
   "source": [
    "# load the phenotyping workflow\n",
    "phenotype = pd.read_csv('../scimapExampleData/phenotype_workflow.csv')\n",
    "# view the table:\n",
    "phenotype.style.format(na_rep='')"
   ]
  },
  {
   "cell_type": "markdown",
   "id": "d0cd59c8",
   "metadata": {},
   "source": [
    "Very 'broad' phenotypes only here. Try to undertand how this matrix works and how it tries to recapitulate the hierarchical system we talked about"
   ]
  },
  {
   "cell_type": "code",
   "execution_count": 4,
   "id": "fd17e300",
   "metadata": {},
   "outputs": [],
   "source": [
    "#%gui qt"
   ]
  },
  {
   "cell_type": "code",
   "execution_count": 5,
   "id": "74d70c51",
   "metadata": {},
   "outputs": [],
   "source": [
    "image_path = '../scimapExampleData/registration/exemplar-001.ome.tif'"
   ]
  },
  {
   "cell_type": "markdown",
   "id": "454fe2d6",
   "metadata": {},
   "source": [
    "## Threshold the image\n",
    "This is very subjective and the data is not really 'clean' and suffers a lot from Autofluorescence. Try to find good gates by looking at the marker on the image and the histograms, add biological knowledge (long bright lines are rather autofluorescent elastic fibrers than real staining for example)"
   ]
  },
  {
   "cell_type": "code",
   "execution_count": 6,
   "id": "ba3764f8",
   "metadata": {},
   "outputs": [
    {
     "name": "stdout",
     "output_type": "stream",
     "text": [
      "Initializing...\n",
      "Initializing gates with GMM (per image)...\n"
     ]
    },
    {
     "name": "stderr",
     "output_type": "stream",
     "text": [
      "                                                              \r"
     ]
    },
    {
     "name": "stdout",
     "output_type": "stream",
     "text": [
      "Loading image data...\n",
      "Calculating contrast settings...\n"
     ]
    },
    {
     "name": "stderr",
     "output_type": "stream",
     "text": [
      "                                                                                                    \r"
     ]
    },
    {
     "name": "stdout",
     "output_type": "stream",
     "text": [
      "Saved contrast settings for exemplar-001--unmicst_cell with 12 channels\n",
      "Initialization completed in 1.24 seconds\n",
      "Opening napari viewer...\n"
     ]
    },
    {
     "ename": "NameError",
     "evalue": "name 'napari' is not defined",
     "output_type": "error",
     "traceback": [
      "\u001b[0;31m---------------------------------------------------------------------------\u001b[0m",
      "\u001b[0;31mNameError\u001b[0m                                 Traceback (most recent call last)",
      "Cell \u001b[0;32mIn[6], line 1\u001b[0m\n\u001b[0;32m----> 1\u001b[0m \u001b[43msm\u001b[49m\u001b[38;5;241;43m.\u001b[39;49m\u001b[43mpl\u001b[49m\u001b[38;5;241;43m.\u001b[39;49m\u001b[43mnapariGater\u001b[49m\u001b[43m \u001b[49m\u001b[43m(\u001b[49m\u001b[43mimage_path\u001b[49m\u001b[43m,\u001b[49m\u001b[43m \u001b[49m\u001b[43madata\u001b[49m\u001b[43m)\u001b[49m\n",
      "File \u001b[0;32m~/anaconda3/envs/scimap_1/lib/python3.10/site-packages/scimap/plotting/napariGater.py:416\u001b[0m, in \u001b[0;36mnapariGater\u001b[0;34m(image_path, adata, layer, log, x_coordinate, y_coordinate, imageid, subset, flip_y, channel_names, point_size, calculate_contrast, verbose)\u001b[0m\n\u001b[1;32m    413\u001b[0m \u001b[38;5;28mprint\u001b[39m(\u001b[38;5;124mf\u001b[39m\u001b[38;5;124m\"\u001b[39m\u001b[38;5;124mInitialization completed in \u001b[39m\u001b[38;5;132;01m{\u001b[39;00mtime\u001b[38;5;241m.\u001b[39mtime()\u001b[38;5;250m \u001b[39m\u001b[38;5;241m-\u001b[39m\u001b[38;5;250m \u001b[39mstart_time\u001b[38;5;132;01m:\u001b[39;00m\u001b[38;5;124m.2f\u001b[39m\u001b[38;5;132;01m}\u001b[39;00m\u001b[38;5;124m seconds\u001b[39m\u001b[38;5;124m\"\u001b[39m)\n\u001b[1;32m    414\u001b[0m \u001b[38;5;28mprint\u001b[39m(\u001b[38;5;124m\"\u001b[39m\u001b[38;5;124mOpening napari viewer...\u001b[39m\u001b[38;5;124m\"\u001b[39m)\n\u001b[0;32m--> 416\u001b[0m viewer \u001b[38;5;241m=\u001b[39m \u001b[43mnapari\u001b[49m\u001b[38;5;241m.\u001b[39mViewer()\n\u001b[1;32m    418\u001b[0m default_colormaps \u001b[38;5;241m=\u001b[39m [\n\u001b[1;32m    419\u001b[0m     \u001b[38;5;124m'\u001b[39m\u001b[38;5;124mmagenta\u001b[39m\u001b[38;5;124m'\u001b[39m, \u001b[38;5;124m'\u001b[39m\u001b[38;5;124mcyan\u001b[39m\u001b[38;5;124m'\u001b[39m, \u001b[38;5;124m'\u001b[39m\u001b[38;5;124myellow\u001b[39m\u001b[38;5;124m'\u001b[39m, \u001b[38;5;124m'\u001b[39m\u001b[38;5;124mred\u001b[39m\u001b[38;5;124m'\u001b[39m, \u001b[38;5;124m'\u001b[39m\u001b[38;5;124mgreen\u001b[39m\u001b[38;5;124m'\u001b[39m, \u001b[38;5;124m'\u001b[39m\u001b[38;5;124mblue\u001b[39m\u001b[38;5;124m'\u001b[39m,\n\u001b[1;32m    420\u001b[0m     \u001b[38;5;124m'\u001b[39m\u001b[38;5;124mmagenta\u001b[39m\u001b[38;5;124m'\u001b[39m, \u001b[38;5;124m'\u001b[39m\u001b[38;5;124mcyan\u001b[39m\u001b[38;5;124m'\u001b[39m, \u001b[38;5;124m'\u001b[39m\u001b[38;5;124myellow\u001b[39m\u001b[38;5;124m'\u001b[39m, \u001b[38;5;124m'\u001b[39m\u001b[38;5;124mred\u001b[39m\u001b[38;5;124m'\u001b[39m, \u001b[38;5;124m'\u001b[39m\u001b[38;5;124mgreen\u001b[39m\u001b[38;5;124m'\u001b[39m, \u001b[38;5;124m'\u001b[39m\u001b[38;5;124mblue\u001b[39m\u001b[38;5;124m'\u001b[39m\n\u001b[1;32m    421\u001b[0m ]\n\u001b[1;32m    423\u001b[0m add_channels_to_viewer(\n\u001b[1;32m    424\u001b[0m     viewer,\n\u001b[1;32m    425\u001b[0m     img_data,\n\u001b[0;32m   (...)\u001b[0m\n\u001b[1;32m    428\u001b[0m     colormaps\u001b[38;5;241m=\u001b[39mdefault_colormaps\n\u001b[1;32m    429\u001b[0m )\n",
      "\u001b[0;31mNameError\u001b[0m: name 'napari' is not defined"
     ]
    }
   ],
   "source": [
    "sm.pl.napariGater (image_path, adata)"
   ]
  },
  {
   "cell_type": "code",
   "execution_count": 7,
   "id": "6e3a8ef3",
   "metadata": {},
   "outputs": [
    {
     "data": {
      "text/plain": [
       "AnnData object with n_obs × n_vars = 11201 × 9\n",
       "    obs: 'X_centroid', 'Y_centroid', 'Area', 'MajorAxisLength', 'MinorAxisLength', 'Eccentricity', 'Solidity', 'Extent', 'Orientation', 'CellID', 'imageid', 'leiden', 'leiden_phenotype'\n",
       "    uns: 'all_markers', 'gates', 'napariGaterProvenance', 'image_contrast_settings'\n",
       "    layers: 'log'"
      ]
     },
     "execution_count": 7,
     "metadata": {},
     "output_type": "execute_result"
    }
   ],
   "source": [
    "adata"
   ]
  },
  {
   "cell_type": "code",
   "execution_count": 8,
   "id": "1e9010e0",
   "metadata": {},
   "outputs": [
    {
     "name": "stdout",
     "output_type": "stream",
     "text": [
      "\n",
      "Scaling Image: exemplar-001--unmicst_cell\n",
      "Scaling ELANE (gate: 7.464)\n",
      "Scaling CD57 (gate: 7.207)\n",
      "Scaling CD45 (gate: 7.027)\n",
      "Scaling CD11B (gate: 7.093)\n",
      "Scaling SMA (gate: 6.598)\n",
      "Scaling CD16 (gate: 6.294)\n",
      "Scaling ECAD (gate: 7.380)\n",
      "Scaling FOXP3 (gate: 7.319)\n",
      "Scaling NCAM (gate: 6.868)\n"
     ]
    }
   ],
   "source": [
    "adata = sm.pp.rescale (adata, gate=adata.uns['gates'])"
   ]
  },
  {
   "cell_type": "code",
   "execution_count": 9,
   "id": "0c32faa8",
   "metadata": {},
   "outputs": [
    {
     "name": "stdout",
     "output_type": "stream",
     "text": [
      "Phenotyping ECAD+\n",
      "Phenotyping Immune\n",
      "Phenotyping SMA+\n",
      "-- Subsetting Immune\n",
      "Phenotyping NK cells\n",
      "Phenotyping Other myeloid cells\n",
      "Phenotyping Treg\n",
      "-- Subsetting Other myeloid cells\n",
      "Phenotyping Dendritic cells\n",
      "Consolidating the phenotypes across all groups\n"
     ]
    }
   ],
   "source": [
    "adata = sm.tl.phenotype_cells (adata, phenotype=phenotype, label=\"phenotype\") "
   ]
  },
  {
   "cell_type": "code",
   "execution_count": 10,
   "id": "d149154f",
   "metadata": {},
   "outputs": [
    {
     "data": {
      "application/vnd.microsoft.datawrangler.viewer.v0+json": {
       "columns": [
        {
         "name": "phenotype",
         "rawType": "object",
         "type": "string"
        },
        {
         "name": "count",
         "rawType": "int64",
         "type": "integer"
        }
       ],
       "ref": "a3a3167e-2c8a-4558-88ad-09625bd5c9b9",
       "rows": [
        [
         "SMA+",
         "3326"
        ],
        [
         "ECAD+",
         "3071"
        ],
        [
         "Unknown",
         "2087"
        ],
        [
         "Immune",
         "1853"
        ],
        [
         "Other myeloid cells",
         "417"
        ],
        [
         "Dendritic cells",
         "248"
        ],
        [
         "Treg",
         "124"
        ],
        [
         "NK cells",
         "75"
        ]
       ],
       "shape": {
        "columns": 1,
        "rows": 8
       }
      },
      "text/plain": [
       "phenotype\n",
       "SMA+                   3326\n",
       "ECAD+                  3071\n",
       "Unknown                2087\n",
       "Immune                 1853\n",
       "Other myeloid cells     417\n",
       "Dendritic cells         248\n",
       "Treg                    124\n",
       "NK cells                 75\n",
       "Name: count, dtype: int64"
      ]
     },
     "execution_count": 10,
     "metadata": {},
     "output_type": "execute_result"
    }
   ],
   "source": [
    "adata.obs['phenotype'].value_counts()"
   ]
  },
  {
   "cell_type": "markdown",
   "id": "7d2b583a",
   "metadata": {},
   "source": [
    "## Now rename the cells so they fit to the cluster annotations (hint: Dendritic cells need to 'vanish' into another category, otherwise check markers from clustering). This is needed for step 3"
   ]
  },
  {
   "cell_type": "code",
   "execution_count": 11,
   "id": "96e048e4",
   "metadata": {},
   "outputs": [
    {
     "data": {
      "application/vnd.microsoft.datawrangler.viewer.v0+json": {
       "columns": [
        {
         "name": "index",
         "rawType": "object",
         "type": "string"
        },
        {
         "name": "0",
         "rawType": "object",
         "type": "unknown"
        }
       ],
       "ref": "8f631559-c8b8-4748-8696-56d9255175dd",
       "rows": [
        [
         "X_centroid",
         "float64"
        ],
        [
         "Y_centroid",
         "float64"
        ],
        [
         "Area",
         "int64"
        ],
        [
         "MajorAxisLength",
         "float64"
        ],
        [
         "MinorAxisLength",
         "float64"
        ],
        [
         "Eccentricity",
         "float64"
        ],
        [
         "Solidity",
         "float64"
        ],
        [
         "Extent",
         "float64"
        ],
        [
         "Orientation",
         "float64"
        ],
        [
         "CellID",
         "int64"
        ],
        [
         "imageid",
         "category"
        ],
        [
         "leiden",
         "category"
        ],
        [
         "leiden_phenotype",
         "category"
        ],
        [
         "phenotype",
         "object"
        ]
       ],
       "shape": {
        "columns": 1,
        "rows": 14
       }
      },
      "text/plain": [
       "X_centroid           float64\n",
       "Y_centroid           float64\n",
       "Area                   int64\n",
       "MajorAxisLength      float64\n",
       "MinorAxisLength      float64\n",
       "Eccentricity         float64\n",
       "Solidity             float64\n",
       "Extent               float64\n",
       "Orientation          float64\n",
       "CellID                 int64\n",
       "imageid             category\n",
       "leiden              category\n",
       "leiden_phenotype    category\n",
       "phenotype             object\n",
       "dtype: object"
      ]
     },
     "execution_count": 11,
     "metadata": {},
     "output_type": "execute_result"
    }
   ],
   "source": [
    "adata.obs.dtypes"
   ]
  },
  {
   "cell_type": "code",
   "execution_count": 12,
   "id": "33b77981",
   "metadata": {},
   "outputs": [
    {
     "data": {
      "application/vnd.microsoft.datawrangler.viewer.v0+json": {
       "columns": [
        {
         "name": "phenotype",
         "rawType": "object",
         "type": "string"
        },
        {
         "name": "count",
         "rawType": "int64",
         "type": "integer"
        }
       ],
       "ref": "65611833-e007-41cc-a82d-59cdaffd82f6",
       "rows": [
        [
         "SMA+",
         "3326"
        ],
        [
         "ECAD+",
         "3071"
        ],
        [
         "Unknown",
         "2087"
        ],
        [
         "Immune",
         "1853"
        ],
        [
         "Other myeloid cells",
         "417"
        ],
        [
         "Dendritic cells",
         "248"
        ],
        [
         "Treg",
         "124"
        ],
        [
         "NK cells",
         "75"
        ]
       ],
       "shape": {
        "columns": 1,
        "rows": 8
       }
      },
      "text/plain": [
       "phenotype\n",
       "SMA+                   3326\n",
       "ECAD+                  3071\n",
       "Unknown                2087\n",
       "Immune                 1853\n",
       "Other myeloid cells     417\n",
       "Dendritic cells         248\n",
       "Treg                    124\n",
       "NK cells                 75\n",
       "Name: count, dtype: int64"
      ]
     },
     "execution_count": 12,
     "metadata": {},
     "output_type": "execute_result"
    }
   ],
   "source": [
    "adata.obs['phenotype'].value_counts()"
   ]
  },
  {
   "cell_type": "code",
   "execution_count": 13,
   "id": "1412e483",
   "metadata": {},
   "outputs": [
    {
     "data": {
      "application/vnd.microsoft.datawrangler.viewer.v0+json": {
       "columns": [
        {
         "name": "leiden_phenotype",
         "rawType": "category",
         "type": "unknown"
        },
        {
         "name": "count",
         "rawType": "int64",
         "type": "integer"
        }
       ],
       "ref": "fa3e2638-9e96-4db7-baca-7641a4dd74fc",
       "rows": [
        [
         "Immune",
         "4824"
        ],
        [
         "Tumor",
         "3239"
        ],
        [
         "Myeloid",
         "1798"
        ],
        [
         "Vessels",
         "844"
        ],
        [
         "Treg",
         "415"
        ],
        [
         "Artifacts",
         "81"
        ]
       ],
       "shape": {
        "columns": 1,
        "rows": 6
       }
      },
      "text/plain": [
       "leiden_phenotype\n",
       "Immune       4824\n",
       "Tumor        3239\n",
       "Myeloid      1798\n",
       "Vessels       844\n",
       "Treg          415\n",
       "Artifacts      81\n",
       "Name: count, dtype: int64"
      ]
     },
     "execution_count": 13,
     "metadata": {},
     "output_type": "execute_result"
    }
   ],
   "source": [
    "adata.obs['leiden_phenotype'].value_counts()"
   ]
  },
  {
   "cell_type": "code",
   "execution_count": 14,
   "id": "552ab9eb",
   "metadata": {},
   "outputs": [],
   "source": [
    "adata.obs['phenotype'] = adata.obs['phenotype'].astype(str)\n",
    "adata.obs['phenotype_to_compare'] = adata.obs['phenotype']\n",
    "adata.obs['phenotype_to_compare'] = adata.obs['phenotype_to_compare'].replace({'ECAD+': 'Tumor', 'SMA+': 'Vessels', 'Other myeloid cells': 'Myeloid',\n",
    "                                                                               'Dendritic cells': 'Myeloid', 'NK cells': 'Immune'})"
   ]
  },
  {
   "cell_type": "code",
   "execution_count": 15,
   "id": "473f27e6",
   "metadata": {},
   "outputs": [],
   "source": [
    "adata.write_h5ad('../cells_annotated_both.h5ad')"
   ]
  }
 ],
 "metadata": {
  "kernelspec": {
   "display_name": "scimap_1",
   "language": "python",
   "name": "python3"
  },
  "language_info": {
   "codemirror_mode": {
    "name": "ipython",
    "version": 3
   },
   "file_extension": ".py",
   "mimetype": "text/x-python",
   "name": "python",
   "nbconvert_exporter": "python",
   "pygments_lexer": "ipython3",
   "version": "3.10.18"
  }
 },
 "nbformat": 4,
 "nbformat_minor": 5
}
