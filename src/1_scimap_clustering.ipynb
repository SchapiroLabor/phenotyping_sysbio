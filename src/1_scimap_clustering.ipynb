{
 "cells": [
  {
   "cell_type": "code",
   "execution_count": null,
   "id": "abfbf317",
   "metadata": {},
   "outputs": [],
   "source": [
    "import pandas as pd\n",
    "import numpy as np\n",
    "import scimap as sm\n",
    "import warnings\n",
    "warnings.filterwarnings(\"ignore\")"
   ]
  },
  {
   "cell_type": "markdown",
   "id": "85fe3092",
   "metadata": {},
   "source": [
    "# Download data and prepare the anndata object"
   ]
  },
  {
   "cell_type": "code",
   "execution_count": null,
   "id": "60c3754d",
   "metadata": {},
   "outputs": [],
   "source": [
    "sm.hl.downloadDemoData('../')\n",
    "\n",
    "# Provide the path to the single-cell feature table. Note that you can specify multiple paths as a list.\n",
    "feature_table_path = [\"../scimapExampleData/quantification/exemplar-001--unmicst_cell.csv\"]\n",
    "\n",
    "# create the annData object\n",
    "adata = sm.pp.mcmicro_to_scimap(feature_table_path)"
   ]
  },
  {
   "cell_type": "markdown",
   "id": "841fe318",
   "metadata": {},
   "source": [
    "# Cluster the data"
   ]
  },
  {
   "cell_type": "markdown",
   "id": "cbdc4856",
   "metadata": {},
   "source": [
    "## Leiden"
   ]
  },
  {
   "cell_type": "code",
   "execution_count": null,
   "id": "c587f599",
   "metadata": {},
   "outputs": [],
   "source": [
    "adata = sm.tl.cluster(adata, method='leiden', resolution=0.3, use_raw=False, log=False) # You can experiment with different resolution parameters and see if that makes sense"
   ]
  },
  {
   "cell_type": "code",
   "execution_count": null,
   "id": "065a51de",
   "metadata": {},
   "outputs": [],
   "source": [
    "adata.obs['leiden'].value_counts()"
   ]
  },
  {
   "cell_type": "code",
   "execution_count": null,
   "id": "a4eb9445",
   "metadata": {},
   "outputs": [],
   "source": [
    "# Generate cluster plots using default settings\n",
    "sm.pl.cluster_plots(adata, group_by='leiden')"
   ]
  },
  {
   "cell_type": "code",
   "execution_count": null,
   "id": "6bf9d3a7",
   "metadata": {},
   "outputs": [],
   "source": [
    "sm.pl.heatmap(adata, groupBy='leiden', standardScale='column', figsize=(5,4), showPrevalence=True)"
   ]
  },
  {
   "cell_type": "code",
   "execution_count": null,
   "id": "e835ba20",
   "metadata": {},
   "outputs": [],
   "source": [
    "rename_dict = {'Tumor': ['5','1'],\n",
    "               'Myeloid': ['2'],\n",
    "               'Treg': ['6'],\n",
    "               'Vessels': ['4'],\n",
    "               'Artifacts': ['7'],\n",
    "                'Immune': ['3','0']}\n",
    "\n",
    "adata = sm.hl.rename(adata, rename=rename_dict, from_column='leiden', to_column='leiden_phenotype')"
   ]
  },
  {
   "cell_type": "markdown",
   "id": "5b765864",
   "metadata": {},
   "source": [
    "## You can also experiment with Phenograph if you want\n",
    "[Documentation](https://scimap.xyz/Functions/tl/cluster/)"
   ]
  },
  {
   "cell_type": "code",
   "execution_count": null,
   "id": "c9efda78",
   "metadata": {},
   "outputs": [],
   "source": []
  },
  {
   "cell_type": "markdown",
   "id": "23b2f6b5",
   "metadata": {},
   "source": [
    "# Inspect annotations on a dotplot"
   ]
  },
  {
   "cell_type": "code",
   "execution_count": null,
   "id": "87097fb0",
   "metadata": {},
   "outputs": [],
   "source": [
    "sm.pl.spatial_scatterPlot (adata, colorBy = ['leiden_phenotype'],figsize=(3,3), s=0.7, fontsize=5, catCmap='Set1')"
   ]
  },
  {
   "cell_type": "markdown",
   "id": "28fb3a0f",
   "metadata": {},
   "source": [
    "# Inspect annotations on the real images"
   ]
  },
  {
   "cell_type": "code",
   "execution_count": null,
   "id": "0554e7d2",
   "metadata": {},
   "outputs": [],
   "source": [
    "image_path = '../scimapExampleData/registration/exemplar-001.ome.tif'\n",
    "seg_mask = '../scimapExampleData/segmentation/unmicst-exemplar-001/cell.ome.tif'\n",
    "\n",
    "# view in napari\n",
    "sm.pl.image_viewer(image_path=image_path, \n",
    "                   adata=adata, \n",
    "                   overlay='leiden_phenotype', \n",
    "                   point_size=10,\n",
    "                   point_color='white',\n",
    "                   seg_mask=seg_mask)"
   ]
  },
  {
   "cell_type": "markdown",
   "id": "2d0ea3e5",
   "metadata": {},
   "source": [
    "# Save the adata object"
   ]
  },
  {
   "cell_type": "code",
   "execution_count": null,
   "id": "f4fd6f1d",
   "metadata": {},
   "outputs": [],
   "source": [
    "adata.write_h5ad('../cells_annotated.h5ad')"
   ]
  }
 ],
 "metadata": {
  "kernelspec": {
   "display_name": "scimap1",
   "language": "python",
   "name": "python3"
  },
  "language_info": {
   "codemirror_mode": {
    "name": "ipython",
    "version": 3
   },
   "file_extension": ".py",
   "mimetype": "text/x-python",
   "name": "python",
   "nbconvert_exporter": "python",
   "pygments_lexer": "ipython3",
   "version": "3.11.0"
  }
 },
 "nbformat": 4,
 "nbformat_minor": 5
}
