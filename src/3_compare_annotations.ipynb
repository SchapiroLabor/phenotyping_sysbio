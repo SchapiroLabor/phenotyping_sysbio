{
 "cells": [
  {
   "cell_type": "code",
   "execution_count": null,
   "id": "6e2121ff",
   "metadata": {},
   "outputs": [],
   "source": [
    "import pandas as pd\n",
    "import numpy as np\n",
    "import scimap as sm\n",
    "import anndata as ad\n",
    "from sklearn.metrics import classification_report, confusion_matrix, mutual_info_score, ConfusionMatrixDisplay\n",
    "import warnings\n",
    "warnings.filterwarnings(\"ignore\")"
   ]
  },
  {
   "cell_type": "markdown",
   "id": "e94e2c0a",
   "metadata": {},
   "source": [
    "# Load data"
   ]
  },
  {
   "cell_type": "code",
   "execution_count": null,
   "id": "40aa59c0",
   "metadata": {},
   "outputs": [],
   "source": [
    "adata = ad.read_h5ad('/Users/lukashat/Documents/PhD_Schapiro/Teaching/SysBio/2025/src/cells_annotated_both.h5ad')"
   ]
  },
  {
   "cell_type": "markdown",
   "id": "fd52df17",
   "metadata": {},
   "source": [
    "# Compare with CR\n",
    "Note, that although we tried to align the names, its not perfectly possible."
   ]
  },
  {
   "cell_type": "code",
   "execution_count": null,
   "id": "a0c59c89",
   "metadata": {},
   "outputs": [],
   "source": [
    "print(classification_report(adata.obs['phenotype_to_compare'], adata.obs['leiden_phenotype']))"
   ]
  },
  {
   "cell_type": "code",
   "execution_count": null,
   "id": "c2462567",
   "metadata": {},
   "outputs": [],
   "source": [
    "cm = confusion_matrix(adata.obs['phenotype_to_compare'], adata.obs['leiden_phenotype'], labels=adata.obs['phenotype_to_compare'].unique())\n",
    "disp = ConfusionMatrixDisplay(confusion_matrix=cm, display_labels=adata.obs['phenotype_to_compare'].unique())\n",
    "disp.plot(cmap='Blues')"
   ]
  },
  {
   "cell_type": "code",
   "execution_count": null,
   "id": "666889b4",
   "metadata": {},
   "outputs": [],
   "source": [
    "mutial_info = mutual_info_score(adata.obs['phenotype_to_compare'], adata.obs['leiden_phenotype'])\n",
    "print(f'Mutual Information Score: {mutial_info}')"
   ]
  },
  {
   "cell_type": "code",
   "execution_count": null,
   "id": "0c5a9f5f",
   "metadata": {},
   "outputs": [],
   "source": []
  },
  {
   "cell_type": "markdown",
   "id": "fb25bb16",
   "metadata": {},
   "source": [
    "# Which annotation do you trust more? Why do you think these methods produce such different results? Do you think it improves if we do this for more images?"
   ]
  }
 ],
 "metadata": {
  "kernelspec": {
   "display_name": "scimap_teaching",
   "language": "python",
   "name": "python3"
  },
  "language_info": {
   "codemirror_mode": {
    "name": "ipython",
    "version": 3
   },
   "file_extension": ".py",
   "mimetype": "text/x-python",
   "name": "python",
   "nbconvert_exporter": "python",
   "pygments_lexer": "ipython3",
   "version": "3.10.18"
  }
 },
 "nbformat": 4,
 "nbformat_minor": 5
}
