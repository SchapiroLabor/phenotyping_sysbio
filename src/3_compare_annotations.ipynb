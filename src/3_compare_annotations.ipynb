{
 "cells": [
  {
   "cell_type": "code",
   "execution_count": 2,
   "id": "6e2121ff",
   "metadata": {},
   "outputs": [],
   "source": [
    "import pandas as pd\n",
    "import numpy as np\n",
    "import scimap as sm\n",
    "import anndata as ad\n",
    "from sklearn.metrics import classification_report, confusion_matrix, mutual_info_score, ConfusionMatrixDisplay\n",
    "import warnings\n",
    "warnings.filterwarnings(\"ignore\")"
   ]
  },
  {
   "cell_type": "markdown",
   "id": "e94e2c0a",
   "metadata": {},
   "source": [
    "# Load data"
   ]
  },
  {
   "cell_type": "code",
   "execution_count": 3,
   "id": "40aa59c0",
   "metadata": {},
   "outputs": [],
   "source": [
    "adata = ad.read_h5ad('../cells_annotated_both.h5ad')"
   ]
  },
  {
   "cell_type": "markdown",
   "id": "fd52df17",
   "metadata": {},
   "source": [
    "# Compare with CR\n",
    "Note, that although we tried to align the names, its not perfectly possible."
   ]
  },
  {
   "cell_type": "code",
   "execution_count": 4,
   "id": "a0c59c89",
   "metadata": {},
   "outputs": [
    {
     "name": "stdout",
     "output_type": "stream",
     "text": [
      "              precision    recall  f1-score   support\n",
      "\n",
      "   Artifacts       0.00      0.00      0.00         0\n",
      "      Immune       0.36      0.91      0.52      1928\n",
      "     Myeloid       0.03      0.09      0.05       665\n",
      "        Treg       0.30      1.00      0.46       124\n",
      "       Tumor       0.69      0.73      0.71      3071\n",
      "     Unknown       0.00      0.00      0.00      2087\n",
      "     Vessels       0.99      0.25      0.40      3326\n",
      "\n",
      "    accuracy                           0.45     11201\n",
      "   macro avg       0.34      0.43      0.31     11201\n",
      "weighted avg       0.55      0.45      0.41     11201\n",
      "\n"
     ]
    }
   ],
   "source": [
    "print(classification_report(adata.obs['phenotype_to_compare'], adata.obs['leiden_phenotype']))"
   ]
  },
  {
   "cell_type": "code",
   "execution_count": 5,
   "id": "c2462567",
   "metadata": {},
   "outputs": [
    {
     "name": "stdout",
     "output_type": "stream",
     "text": [
      "Unexpected exception formatting exception. Falling back to standard exception\n"
     ]
    },
    {
     "name": "stderr",
     "output_type": "stream",
     "text": [
      "Traceback (most recent call last):\n",
      "  File \"/Users/arojhada/anaconda3/envs/scimap/lib/python3.10/site-packages/IPython/core/interactiveshell.py\", line 3579, in run_code\n",
      "  File \"/var/folders/mg/zdym77mj563f5msk4r9jfc480000gn/T/ipykernel_94709/1405579405.py\", line 3, in <module>\n",
      "    disp.plot(cmap='Blues')\n",
      "  File \"/Users/arojhada/anaconda3/envs/scimap/lib/python3.10/site-packages/sklearn/metrics/_plot/confusion_matrix.py\", line 143, in plot\n",
      "  File \"/Users/arojhada/anaconda3/envs/scimap/lib/python3.10/site-packages/matplotlib/pyplot.py\", line 1777, in subplots\n",
      "  File \"/Users/arojhada/anaconda3/envs/scimap/lib/python3.10/site-packages/matplotlib/pyplot.py\", line 1042, in figure\n",
      "  File \"/Users/arojhada/anaconda3/envs/scimap/lib/python3.10/site-packages/matplotlib/pyplot.py\", line 551, in new_figure_manager\n",
      "  File \"/Users/arojhada/anaconda3/envs/scimap/lib/python3.10/site-packages/matplotlib/pyplot.py\", line 528, in _warn_if_gui_out_of_main_thread\n",
      "  File \"/Users/arojhada/anaconda3/envs/scimap/lib/python3.10/site-packages/matplotlib/pyplot.py\", line 369, in _get_backend_mod\n",
      "  File \"/Users/arojhada/anaconda3/envs/scimap/lib/python3.10/site-packages/matplotlib/pyplot.py\", line 425, in switch_backend\n",
      "  File \"/Users/arojhada/anaconda3/envs/scimap/lib/python3.10/site-packages/matplotlib/backends/registry.py\", line 317, in load_backend_module\n",
      "  File \"/Users/arojhada/anaconda3/envs/scimap/lib/python3.10/importlib/__init__.py\", line 126, in import_module\n",
      "  File \"<frozen importlib._bootstrap>\", line 1050, in _gcd_import\n",
      "  File \"<frozen importlib._bootstrap>\", line 1027, in _find_and_load\n",
      "  File \"<frozen importlib._bootstrap>\", line 992, in _find_and_load_unlocked\n",
      "  File \"<frozen importlib._bootstrap>\", line 241, in _call_with_frames_removed\n",
      "  File \"<frozen importlib._bootstrap>\", line 1050, in _gcd_import\n",
      "  File \"<frozen importlib._bootstrap>\", line 1027, in _find_and_load\n",
      "  File \"<frozen importlib._bootstrap>\", line 1004, in _find_and_load_unlocked\n",
      "ModuleNotFoundError: No module named 'matplotlib_inline'\n",
      "\n",
      "During handling of the above exception, another exception occurred:\n",
      "\n",
      "Traceback (most recent call last):\n",
      "  File \"/Users/arojhada/anaconda3/envs/scimap/lib/python3.10/site-packages/pygments/styles/__init__.py\", line 45, in get_style_by_name\n",
      "ModuleNotFoundError: No module named 'pygments.styles.default'\n",
      "\n",
      "During handling of the above exception, another exception occurred:\n",
      "\n",
      "Traceback (most recent call last):\n",
      "  File \"/Users/arojhada/anaconda3/envs/scimap/lib/python3.10/site-packages/IPython/core/interactiveshell.py\", line 2170, in showtraceback\n",
      "  File \"/Users/arojhada/anaconda3/envs/scimap/lib/python3.10/site-packages/IPython/core/ultratb.py\", line 1457, in structured_traceback\n",
      "  File \"/Users/arojhada/anaconda3/envs/scimap/lib/python3.10/site-packages/IPython/core/ultratb.py\", line 1348, in structured_traceback\n",
      "  File \"/Users/arojhada/anaconda3/envs/scimap/lib/python3.10/site-packages/IPython/core/ultratb.py\", line 1195, in structured_traceback\n",
      "  File \"/Users/arojhada/anaconda3/envs/scimap/lib/python3.10/site-packages/IPython/core/ultratb.py\", line 1085, in format_exception_as_a_whole\n",
      "  File \"/Users/arojhada/anaconda3/envs/scimap/lib/python3.10/site-packages/IPython/core/ultratb.py\", line 1136, in get_records\n",
      "  File \"/Users/arojhada/anaconda3/envs/scimap/lib/python3.10/site-packages/pygments/styles/__init__.py\", line 47, in get_style_by_name\n",
      "pygments.util.ClassNotFound: Could not find style module 'pygments.styles.default', though it should be builtin.\n"
     ]
    }
   ],
   "source": [
    "cm = confusion_matrix(adata.obs['phenotype_to_compare'], adata.obs['leiden_phenotype'], labels=adata.obs['phenotype_to_compare'].unique())\n",
    "disp = ConfusionMatrixDisplay(confusion_matrix=cm, display_labels=adata.obs['phenotype_to_compare'].unique())\n",
    "disp.plot(cmap='Blues')"
   ]
  },
  {
   "cell_type": "code",
   "execution_count": 6,
   "id": "666889b4",
   "metadata": {},
   "outputs": [
    {
     "name": "stdout",
     "output_type": "stream",
     "text": [
      "Mutual Information Score: 0.4448667797776788\n"
     ]
    }
   ],
   "source": [
    "mutial_info = mutual_info_score(adata.obs['phenotype_to_compare'], adata.obs['leiden_phenotype'])\n",
    "print(f'Mutual Information Score: {mutial_info}')"
   ]
  },
  {
   "cell_type": "markdown",
   "id": "fb25bb16",
   "metadata": {},
   "source": [
    "# Which annotation do you trust more? Why do you think these methods produce such different results? Do you think it improves if we do this for more images?"
   ]
  }
 ],
 "metadata": {
  "kernelspec": {
   "display_name": "scimap",
   "language": "python",
   "name": "python3"
  },
  "language_info": {
   "codemirror_mode": {
    "name": "ipython",
    "version": 3
   },
   "file_extension": ".py",
   "mimetype": "text/x-python",
   "name": "python",
   "nbconvert_exporter": "python",
   "pygments_lexer": "ipython3",
   "version": "3.10.18"
  }
 },
 "nbformat": 4,
 "nbformat_minor": 5
}
